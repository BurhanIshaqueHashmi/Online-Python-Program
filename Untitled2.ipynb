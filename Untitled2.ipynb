{
 "cells": [
  {
   "cell_type": "code",
   "execution_count": 14,
   "id": "c74cc88d-c8ca-42c1-8f9f-6261efe8b3e0",
   "metadata": {},
   "outputs": [
    {
     "name": "stdout",
     "output_type": "stream",
     "text": [
      "Twinkle,twinkle,little star,\n",
      "         How I wonder what you are!\n",
      "                  Up above the world so high,\n",
      "                  Like a diamond in the sky.\n",
      "Twinkle,twinkle,little star,\n",
      "       How I wonder what you are\n",
      "\n"
     ]
    }
   ],
   "source": [
    "a=\"Twinkle,twinkle,little star,\\n\"\n",
    "b=\"         How I wonder what you are!\\n\"\n",
    "c=\"                  Up above the world so high,\\n\"\n",
    "d=\"                  Like a diamond in the sky.\\n\"\n",
    "e=\"Twinkle,twinkle,little star,\\n\"\n",
    "f=\"       How I wonder what you are\\n\"\n",
    "g= a+b+c+d+e+f\n",
    "print(g)"
   ]
  },
  {
   "cell_type": "code",
   "execution_count": 19,
   "id": "ca316b4e-c5b2-485e-9bfb-9c61fadfbc05",
   "metadata": {},
   "outputs": [
    {
     "name": "stdout",
     "output_type": "stream",
     "text": [
      "Current date and time : \n",
      "2022-01-02 19:34:35\n"
     ]
    }
   ],
   "source": [
    "import datetime\n",
    "now = datetime.datetime.now()\n",
    "print (\"Current date and time : \")\n",
    "print (now.strftime(\"%Y-%m-%d %H:%M:%S\"))"
   ]
  },
  {
   "cell_type": "code",
   "execution_count": 20,
   "id": "0c2c69af-34e7-424a-a5f5-372936ba0501",
   "metadata": {},
   "outputs": [
    {
     "name": "stdin",
     "output_type": "stream",
     "text": [
      "Enter radius of circle:  2\n"
     ]
    },
    {
     "name": "stdout",
     "output_type": "stream",
     "text": [
      "Area of circle = 12.56636\n"
     ]
    }
   ],
   "source": [
    "r = float(input(\"Enter radius of circle: \"))\n",
    "a = 3.14159 * r * r\n",
    "print(\"Area of circle =\", a)"
   ]
  },
  {
   "cell_type": "code",
   "execution_count": null,
   "id": "b1b341bf-2054-4623-b16b-3d9c3000e8d4",
   "metadata": {},
   "outputs": [],
   "source": []
  },
  {
   "cell_type": "code",
   "execution_count": 34,
   "id": "c4447ad8-7b96-42ea-862d-f86a4b28efef",
   "metadata": {},
   "outputs": [
    {
     "name": "stdin",
     "output_type": "stream",
     "text": [
      "Input your First Name :  burhan\n",
      "Input your Last Name :  ishaque\n"
     ]
    },
    {
     "name": "stdout",
     "output_type": "stream",
     "text": [
      "ishaque burhan\n"
     ]
    }
   ],
   "source": [
    "fname = input(\"Input your First Name : \")\n",
    "lname = input(\"Input your Last Name : \")\n",
    "print ( lname + \" \" + fname)\n"
   ]
  },
  {
   "cell_type": "code",
   "execution_count": 51,
   "id": "bd0f7c08-a729-4e70-bb56-c3928c86ea48",
   "metadata": {},
   "outputs": [
    {
     "name": "stdin",
     "output_type": "stream",
     "text": [
      "First Number: 8\n",
      "Second Number: 8\n"
     ]
    },
    {
     "name": "stdout",
     "output_type": "stream",
     "text": [
      "sum: 16\n"
     ]
    }
   ],
   "source": [
    "f = int(input(\"First Number:\"))\n",
    "s = int(input(\"Second Number:\"))\n",
    "sum= f + s\n",
    "print (\"sum:\", sum)"
   ]
  },
  {
   "cell_type": "code",
   "execution_count": 1,
   "id": "f3a67a47-7e04-48cd-a61a-7f9a82323f23",
   "metadata": {},
   "outputs": [
    {
     "name": "stdout",
     "output_type": "stream",
     "text": [
      "3.9.7 (default, Sep 16 2021, 16:59:28) [MSC v.1916 64 bit (AMD64)]\n"
     ]
    }
   ],
   "source": [
    "import sys\n",
    "print(sys.version)"
   ]
  },
  {
   "cell_type": "code",
   "execution_count": null,
   "id": "73dfad98-1a36-4e1e-b3f3-2630130dccd0",
   "metadata": {},
   "outputs": [],
   "source": []
  }
 ],
 "metadata": {
  "kernelspec": {
   "display_name": "Python 3 (ipykernel)",
   "language": "python",
   "name": "python3"
  },
  "language_info": {
   "codemirror_mode": {
    "name": "ipython",
    "version": 3
   },
   "file_extension": ".py",
   "mimetype": "text/x-python",
   "name": "python",
   "nbconvert_exporter": "python",
   "pygments_lexer": "ipython3",
   "version": "3.9.7"
  },
  "toc-autonumbering": true,
  "toc-showmarkdowntxt": true
 },
 "nbformat": 4,
 "nbformat_minor": 5
}
